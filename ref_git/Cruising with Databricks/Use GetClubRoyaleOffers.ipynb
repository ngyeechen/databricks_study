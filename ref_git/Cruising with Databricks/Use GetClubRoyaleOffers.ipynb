{
 "cells": [
  {
   "cell_type": "code",
   "execution_count": 0,
   "metadata": {
    "application/vnd.databricks.v1+cell": {
     "cellMetadata": {
      "byteLimit": 2048000,
      "rowLimit": 10000
     },
     "inputWidgets": {},
     "nuid": "471a3a82-b7ff-47c0-88c5-9a346ef0d477",
     "showTitle": false,
     "tableResultSettingsMap": {},
     "title": ""
    }
   },
   "outputs": [],
   "source": [
    "%run ./GetClubRoyaleOffers"
   ]
  },
  {
   "cell_type": "code",
   "execution_count": 0,
   "metadata": {
    "application/vnd.databricks.v1+cell": {
     "cellMetadata": {
      "byteLimit": 2048000,
      "rowLimit": 10000
     },
     "inputWidgets": {},
     "nuid": "a44e00ec-5a84-4b90-83d4-7e0d78256929",
     "showTitle": false,
     "tableResultSettingsMap": {},
     "title": ""
    }
   },
   "outputs": [],
   "source": [
    "unity_catalog_volume  = \"/Volumes/clubroyale/offers/last_run\"  # Replace with your Unity Catalog volume path\n",
    "sender_email  = dbutils.secrets.get(scope=\"clubroyale\", key=\"from_email\")\n",
    "sender_password = dbutils.secrets.get(scope=\"clubroyale\", key=\"app_password\")\n",
    "\n",
    "user1_email  = dbutils.secrets.get(scope=\"clubroyale\", key=\"user1_email\")\n",
    "user2_email  = dbutils.secrets.get(scope=\"clubroyale\", key=\"user2_email\")\n",
    "\n",
    "user1_id =  dbutils.secrets.get(scope=\"clubroyale\", key=\"user1_rewardnumber\")\n",
    "user2_id =  dbutils.secrets.get(scope=\"clubroyale\", key=\"user2_rewardnumber\")\n",
    "\n",
    "user1_last_name = dbutils.secrets.get(scope=\"clubroyale\", key=\"user1_last_name\")\n",
    "user2_last_name = dbutils.secrets.get(scope=\"clubroyale\", key=\"user2_last_name\")\n",
    "\n",
    "uc_catalog = \"clubroyale\"\n",
    "uc_schema = \"offers\"\n",
    "uc_table = \"bronze_offers\"\n",
    "\n",
    "offers = ClubRoyaleOffers(unity_catalog_volume, sender_email, sender_password,uc_catalog,uc_schema,uc_table)\n",
    "\n",
    "offers.lookup_player_data(user1_last_name, user1_id,user1_email)\n",
    "offers.lookup_player_data(user2_last_name, user2_id, user2_email)\n"
   ]
  },
  {
   "cell_type": "code",
   "execution_count": 0,
   "metadata": {
    "application/vnd.databricks.v1+cell": {
     "cellMetadata": {
      "byteLimit": 2048000,
      "rowLimit": 10000
     },
     "inputWidgets": {},
     "nuid": "2ae5364d-7258-47d5-953c-6abe1265c180",
     "showTitle": false,
     "tableResultSettingsMap": {},
     "title": ""
    }
   },
   "outputs": [],
   "source": [
    "display(spark.sql(f\"Describe  clubroyale.offers.bronze_offers\"))"
   ]
  },
  {
   "cell_type": "code",
   "execution_count": 0,
   "metadata": {
    "application/vnd.databricks.v1+cell": {
     "cellMetadata": {
      "byteLimit": 2048000,
      "rowLimit": 10000
     },
     "inputWidgets": {},
     "nuid": "d5b139a9-3657-42d5-8ce7-f6a5e2f526dd",
     "showTitle": false,
     "tableResultSettingsMap": {},
     "title": ""
    }
   },
   "outputs": [],
   "source": [
    "display(spark.sql(f\"select count(*) from  clubroyale.offers.bronze_offers\"))"
   ]
  },
  {
   "cell_type": "code",
   "execution_count": 0,
   "metadata": {
    "application/vnd.databricks.v1+cell": {
     "cellMetadata": {
      "byteLimit": 2048000,
      "rowLimit": 10000
     },
     "inputWidgets": {},
     "nuid": "6a6f9faf-8627-4907-8f57-5fe3cde66495",
     "showTitle": false,
     "tableResultSettingsMap": {},
     "title": ""
    }
   },
   "outputs": [],
   "source": [
    "display(spark.sql(f\"select * from  clubroyale.offers.bronze_offers\"))"
   ]
  },
  {
   "cell_type": "code",
   "execution_count": 0,
   "metadata": {
    "application/vnd.databricks.v1+cell": {
     "cellMetadata": {
      "byteLimit": 2048000,
      "rowLimit": 10000
     },
     "inputWidgets": {},
     "nuid": "62b7ae79-72a6-4458-9504-27e8e016de0d",
     "showTitle": false,
     "tableResultSettingsMap": {},
     "title": ""
    }
   },
   "outputs": [],
   "source": [
    "# spark.sql(f\"drop table clubroyale.offers.bronze_offers\")"
   ]
  },
  {
   "cell_type": "code",
   "execution_count": 0,
   "metadata": {
    "application/vnd.databricks.v1+cell": {
     "cellMetadata": {
      "byteLimit": 2048000,
      "rowLimit": 10000
     },
     "inputWidgets": {},
     "nuid": "ed72ca60-7f4e-41bd-a222-2b2385581681",
     "showTitle": false,
     "tableResultSettingsMap": {},
     "title": ""
    }
   },
   "outputs": [],
   "source": []
  }
 ],
 "metadata": {
  "application/vnd.databricks.v1+notebook": {
   "computePreferences": null,
   "dashboards": [],
   "environmentMetadata": null,
   "inputWidgetPreferences": null,
   "language": "python",
   "notebookMetadata": {
    "pythonIndentUnit": 4
   },
   "notebookName": "Use GetClubRoyaleOffers",
   "widgets": {}
  },
  "colab": {
   "provenance": []
  },
  "kernelspec": {
   "display_name": "Python 3",
   "name": "python3"
  },
  "language_info": {
   "name": "python"
  }
 },
 "nbformat": 4,
 "nbformat_minor": 0
}
