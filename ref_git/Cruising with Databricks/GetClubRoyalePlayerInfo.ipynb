{
 "cells": [
  {
   "cell_type": "code",
   "execution_count": 0,
   "metadata": {
    "application/vnd.databricks.v1+cell": {
     "cellMetadata": {
      "byteLimit": 2048000,
      "rowLimit": 10000
     },
     "inputWidgets": {},
     "nuid": "22f8dab4-5c66-40a1-9c21-e9094ca5e6ab",
     "showTitle": false,
     "tableResultSettingsMap": {},
     "title": ""
    }
   },
   "outputs": [],
   "source": [
    "-- This SQL code demonstrates how to create a tool that retrieves the contents of a web page\n",
    "-- using a POST operation with the http_request function in Databricks.\n",
    "-- For more details, refer to the Databricks documentation: \n",
    "-- https://docs.databricks.com/aws/en/sql/language-manual/functions/http_request"
   ]
  },
  {
   "cell_type": "markdown",
   "metadata": {
    "application/vnd.databricks.v1+cell": {
     "cellMetadata": {
      "byteLimit": 2048000,
      "rowLimit": 10000
     },
     "inputWidgets": {},
     "nuid": "e91b6332-94de-4871-9b19-cf810d130862",
     "showTitle": false,
     "tableResultSettingsMap": {},
     "title": ""
    }
   },
   "source": [
    "# Create the Connection\n",
    "See https://docs.databricks.com/aws/en/sql/language-manual/sql-ref-syntax-ddl-create-connection\n"
   ]
  },
  {
   "cell_type": "code",
   "execution_count": 0,
   "metadata": {
    "application/vnd.databricks.v1+cell": {
     "cellMetadata": {
      "byteLimit": 2048000,
      "rowLimit": 10000
     },
     "inputWidgets": {},
     "nuid": "f2dd0146-dd59-4aed-b5f6-65232e907c13",
     "showTitle": false,
     "tableResultSettingsMap": {},
     "title": ""
    }
   },
   "outputs": [],
   "source": [
    "DROP  CONNECTION IF EXISTS club_royale;"
   ]
  },
  {
   "cell_type": "code",
   "execution_count": 0,
   "metadata": {
    "application/vnd.databricks.v1+cell": {
     "cellMetadata": {
      "byteLimit": 2048000,
      "rowLimit": 10000
     },
     "inputWidgets": {},
     "nuid": "3bda9062-816a-40ea-a88e-b35a07552b4e",
     "showTitle": false,
     "tableResultSettingsMap": {},
     "title": ""
    }
   },
   "outputs": [],
   "source": [
    "-- Set up a connect to the Club Royale Offers website\n",
    "CREATE CONNECTION IF NOT EXISTS club_royale\n",
    "  TYPE HTTP\n",
    "  OPTIONS (\n",
    "    host 'https://www.clubroyaleoffers.com',\n",
    "    port '443',\n",
    "    base_path '/',\n",
    "    bearer_token ''\n",
    "  )\n",
    "  COMMENT 'Connection to Club Royale Offers API for player information retrieval.';"
   ]
  },
  {
   "cell_type": "markdown",
   "metadata": {
    "application/vnd.databricks.v1+cell": {
     "cellMetadata": {
      "byteLimit": 2048000,
      "rowLimit": 10000
     },
     "inputWidgets": {},
     "nuid": "541594ae-bed2-460e-9760-83dc16551e89",
     "showTitle": false,
     "tableResultSettingsMap": {},
     "title": ""
    },
    "jupyter": {
     "outputs_hidden": true
    }
   },
   "source": [
    "# Create the Connection Using Function"
   ]
  },
  {
   "cell_type": "code",
   "execution_count": 0,
   "metadata": {
    "application/vnd.databricks.v1+cell": {
     "cellMetadata": {
      "byteLimit": 2048000,
      "rowLimit": 10000
     },
     "inputWidgets": {},
     "nuid": "bc08b8fc-abf3-409f-b668-7e762a99c188",
     "showTitle": false,
     "tableResultSettingsMap": {},
     "title": ""
    }
   },
   "outputs": [],
   "source": [
    "-- Function: GetClubRoyalePlayerInfo\n",
    "-- Purpose: Retrieve player information from Club Royale using HTTP POST request.\n",
    "-- Arguments:\n",
    "--   player_id (STRING): The player's unique identifier.\n",
    "--   last_name (STRING): The player's last name.\n",
    "-- Returns:\n",
    "--   STRING: The response from the Club Royale PlayerLookup API.\n",
    "\n",
    "CREATE OR REPLACE FUNCTION clubroyale.offers.GetClubRoyalePlayerInfo(player_id STRING, last_name STRING)\n",
    "RETURNS STRING\n",
    "COMMENT 'Retrieves player information from Club Royale PlayerLookup API using player_id and last_name.'\n",
    "RETURN (\n",
    "  http_request(\n",
    "    conn => 'club_royale',\n",
    "    method => 'POST',\n",
    "    path => '/PlayerLookup.asp',\n",
    "    json => to_json(\n",
    "      named_struct(\n",
    "        'tbxLNameLookup', last_name,\n",
    "        'tbxPlayerLookup', player_id\n",
    "      )\n",
    "    )\n",
    "  ).text\n",
    ");"
   ]
  },
  {
   "cell_type": "code",
   "execution_count": 0,
   "metadata": {
    "application/vnd.databricks.v1+cell": {
     "cellMetadata": {
      "byteLimit": 2048000,
      "rowLimit": 10000
     },
     "inputWidgets": {},
     "nuid": "ffdafdd9-6755-4943-a911-9352752590b4",
     "showTitle": false,
     "tableResultSettingsMap": {},
     "title": ""
    }
   },
   "outputs": [],
   "source": [
    "-- Function: GetClubRoyalePlayerInfoDirect\n",
    "-- Purpose: Retrieve player information from Club Royale using Requests object with a HTTP POST.\n",
    "-- Arguments:\n",
    "--   player_id (STRING): The player's unique identifier.\n",
    "--   last_name (STRING): The player's last name.\n",
    "-- Returns:\n",
    "--   STRING: The response from the Club Royale PlayerLookup API.\n",
    "CREATE OR REPLACE FUNCTION clubroyale.offers.GetClubRoyalePlayerInfoDirect(player_id STRING, last_name STRING)\n",
    "RETURNS STRING\n",
    "COMMENT 'Retrieves player information from Club Royale PlayerLookup API using player_id and last_name.'\n",
    "LANGUAGE PYTHON\n",
    "AS $$\n",
    "import requests\n",
    "url = f\"https://www.clubroyaleoffers.com/PlayerLookup.asp\"\n",
    "payload = {\n",
    "    \"tbxLNameLookup\": last_name,\n",
    "    \"tbxPlayerLookup\": player_id\n",
    "}\n",
    "response = requests.post(url, data=payload)\n",
    "print(response)\n",
    "print(response.text)\n",
    "return response.text\n",
    "$$;"
   ]
  }
 ],
 "metadata": {
  "application/vnd.databricks.v1+notebook": {
   "computePreferences": null,
   "dashboards": [],
   "environmentMetadata": {
    "base_environment": "",
    "environment_version": "2"
   },
   "inputWidgetPreferences": null,
   "language": "sql",
   "notebookMetadata": {
    "pythonIndentUnit": 4
   },
   "notebookName": "GetClubRoyalePlayerInfo",
   "widgets": {}
  },
  "language_info": {
   "name": "sql"
  }
 },
 "nbformat": 4,
 "nbformat_minor": 0
}
