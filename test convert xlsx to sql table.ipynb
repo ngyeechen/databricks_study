{
 "cells": [
  {
   "cell_type": "code",
   "execution_count": 0,
   "metadata": {
    "application/vnd.databricks.v1+cell": {
     "cellMetadata": {
      "byteLimit": 2048000,
      "rowLimit": 10000
     },
     "inputWidgets": {},
     "nuid": "1152cddc-c27b-40c8-a379-d421daf1a4a1",
     "showTitle": false,
     "tableResultSettingsMap": {},
     "title": ""
    }
   },
   "outputs": [],
   "source": [
    "%pip install openpyxl pandas"
   ]
  },
  {
   "cell_type": "code",
   "execution_count": 0,
   "metadata": {
    "application/vnd.databricks.v1+cell": {
     "cellMetadata": {
      "byteLimit": 2048000,
      "rowLimit": 10000
     },
     "inputWidgets": {},
     "nuid": "bae629b7-197d-48dc-b5f6-f9e9971cdd00",
     "showTitle": false,
     "tableResultSettingsMap": {},
     "title": ""
    }
   },
   "outputs": [],
   "source": [
    "import requests\n",
    "import base64\n",
    "\n",
    "url = \"https://raw.githubusercontent.com/ngyeechen/databricks_study/1a657063a8a1c152cf86ed027aea65b6e36bfb34/Real%20Estate%20Property%20Transactions.xlsx\"\n",
    "dbfs_path = \"/tmp/RealEstatePropertyTransactions.xlsx\"\n",
    "\n",
    "# Get the file content from GitHub raw URL\n",
    "r = requests.get(url)\n",
    "binary_content = r.content\n",
    "\n",
    "# Encode binary content to base64 string\n",
    "b64_content = base64.b64encode(binary_content).decode('utf-8')\n",
    "\n",
    "# Write base64 string to DBFS file in chunks (max 1MB per put)\n",
    "chunk_size = 1024 * 1024  # 1MB\n",
    "for i in range(0, len(b64_content), chunk_size):\n",
    "    chunk = b64_content[i:i+chunk_size]\n",
    "    if i == 0:\n",
    "        dbutils.fs.put(f\"dbfs:{dbfs_path}.b64\", chunk, overwrite=True)\n",
    "    else:\n",
    "        dbutils.fs.put(f\"dbfs:{dbfs_path}.b64\", chunk, overwrite=False)\n",
    "\n",
    "print(f\"Base64 file written to dbfs:{dbfs_path}.b64\")\n"
   ]
  }
 ],
 "metadata": {
  "application/vnd.databricks.v1+notebook": {
   "computePreferences": null,
   "dashboards": [],
   "environmentMetadata": {
    "base_environment": "",
    "environment_version": "2"
   },
   "inputWidgetPreferences": null,
   "language": "python",
   "notebookMetadata": {
    "pythonIndentUnit": 4
   },
   "notebookName": "test convert xlsx to sql table",
   "widgets": {}
  },
  "language_info": {
   "name": "python"
  }
 },
 "nbformat": 4,
 "nbformat_minor": 0
}
